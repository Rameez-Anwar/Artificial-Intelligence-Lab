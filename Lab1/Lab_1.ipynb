{
  "nbformat": 4,
  "nbformat_minor": 0,
  "metadata": {
    "colab": {
      "provenance": [],
      "gpuType": "T4",
      "authorship_tag": "ABX9TyMUN6+AuRtgeqB3nFARqr3n",
      "include_colab_link": true
    },
    "kernelspec": {
      "name": "python3",
      "display_name": "Python 3"
    },
    "language_info": {
      "name": "python"
    },
    "accelerator": "GPU"
  },
  "cells": [
    {
      "cell_type": "markdown",
      "metadata": {
        "id": "view-in-github",
        "colab_type": "text"
      },
      "source": [
        "<a href=\"https://colab.research.google.com/github/rameezmughal/Artificial-Intelligence-Lab/blob/main/Lab1/Lab_1.ipynb\" target=\"_parent\"><img src=\"https://colab.research.google.com/assets/colab-badge.svg\" alt=\"Open In Colab\"/></a>"
      ]
    },
    {
      "cell_type": "markdown",
      "source": [
        "# **LAB 1**\n",
        "> Name          : Rameez Anwar\n",
        "\n",
        "> Reg No        : B22F0150AI102\n",
        "\n",
        "> Lab Instructor: Ms. Aneela Habib"
      ],
      "metadata": {
        "id": "FpjBvRBUVuqh"
      }
    },
    {
      "cell_type": "markdown",
      "source": [
        "# **1. Differentiate between assignment operator and equality operator:**\n",
        "\n",
        "* Assignment operator (“=”): It is used to assign a value to a variable. For example, x = 5 assigns the value 5 to the variable x.\n",
        "\n",
        "* Equality operator (“==”): It is used to compare two values for equality. For example, x == 5 checks if the value of x is equal to 5."
      ],
      "metadata": {
        "id": "u325au3DJtOH"
      }
    },
    {
      "cell_type": "markdown",
      "source": [
        "# **2. Explore all kinds /data types of variables. And  write code for each datatype.**\n"
      ],
      "metadata": {
        "id": "Fp7ENo0nLOM2"
      }
    },
    {
      "cell_type": "code",
      "source": [
        "# Integer variable: Whole number without any fractional part.\n",
        "x = 5\n",
        "print(type(x))"
      ],
      "metadata": {
        "colab": {
          "base_uri": "https://localhost:8080/",
          "height": 0
        },
        "id": "JebdETzHK6J0",
        "outputId": "f905b55d-cfcb-4c4c-ad01-9d78ac9f562c"
      },
      "execution_count": 2,
      "outputs": [
        {
          "output_type": "stream",
          "name": "stdout",
          "text": [
            "<class 'int'>\n"
          ]
        }
      ]
    },
    {
      "cell_type": "code",
      "source": [
        "# Floating-point variable : A number with a fractional part.\n",
        "y = 3.14\n",
        "print(type(y))"
      ],
      "metadata": {
        "colab": {
          "base_uri": "https://localhost:8080/",
          "height": 0
        },
        "id": "JYjtCdZxMBIc",
        "outputId": "b5f90f8b-23fd-405a-8b71-2365aba841e5"
      },
      "execution_count": 3,
      "outputs": [
        {
          "output_type": "stream",
          "name": "stdout",
          "text": [
            "<class 'float'>\n"
          ]
        }
      ]
    },
    {
      "cell_type": "code",
      "source": [
        "# String variable:Sequence of characters\n",
        "z = \"Rameez Anwar\"\n",
        "print(type(z))"
      ],
      "metadata": {
        "colab": {
          "base_uri": "https://localhost:8080/",
          "height": 0
        },
        "id": "cRe-IakkMNYq",
        "outputId": "116b1176-49ee-4a61-be15-41c3d584c283"
      },
      "execution_count": 4,
      "outputs": [
        {
          "output_type": "stream",
          "name": "stdout",
          "text": [
            "<class 'str'>\n"
          ]
        }
      ]
    },
    {
      "cell_type": "code",
      "source": [
        "# Boolean variable: Represents a logical value and hold either true or false\n",
        "a = True\n",
        "print(type(a))"
      ],
      "metadata": {
        "colab": {
          "base_uri": "https://localhost:8080/",
          "height": 0
        },
        "id": "9O0AdWGWMa1D",
        "outputId": "c4b3381e-0e99-49da-ec25-b4dd60c146cd"
      },
      "execution_count": 5,
      "outputs": [
        {
          "output_type": "stream",
          "name": "stdout",
          "text": [
            "<class 'bool'>\n"
          ]
        }
      ]
    },
    {
      "cell_type": "markdown",
      "source": [
        "# **3.\tExplain the rules for variables name and use different variables name including special characters , numbers etc**"
      ],
      "metadata": {
        "id": "-pJ2X9ZJNIUb"
      }
    },
    {
      "cell_type": "markdown",
      "source": [
        "* Variable names must start with a letter or the underscore character.\n",
        "* Variable names can only contain letters, numbers, and underscores (A-z, 0-9, and _).\n",
        "* Variable names cannot start with a number.\n",
        "* Variable names are case-sensitive. For example, x and X are two different variables.\n",
        "* Reserved words cannot be used as a variable name."
      ],
      "metadata": {
        "id": "-jxmWPhzNNXj"
      }
    },
    {
      "cell_type": "code",
      "source": [
        "#invalid variable name\n",
        "@n=\"Rameez\"\n",
        " 9age=19\n",
        "print(@name)\n",
        "print(9age)"
      ],
      "metadata": {
        "colab": {
          "base_uri": "https://localhost:8080/",
          "height": 106
        },
        "id": "L_ynQhRQNz6a",
        "outputId": "d78fa532-58ed-413a-c23e-660cfa956aaf"
      },
      "execution_count": 8,
      "outputs": [
        {
          "output_type": "error",
          "ename": "SyntaxError",
          "evalue": "invalid decimal literal (<ipython-input-8-d368cbbcda8c>, line 3)",
          "traceback": [
            "\u001b[0;36m  File \u001b[0;32m\"<ipython-input-8-d368cbbcda8c>\"\u001b[0;36m, line \u001b[0;32m3\u001b[0m\n\u001b[0;31m    9age=19\u001b[0m\n\u001b[0m    ^\u001b[0m\n\u001b[0;31mSyntaxError\u001b[0m\u001b[0;31m:\u001b[0m invalid decimal literal\n"
          ]
        }
      ]
    },
    {
      "cell_type": "markdown",
      "source": [
        "# **4.\tDeclare and initialize multiple variables in a single line . Single variable with multiple values , multiple variables with single values. Each having at least two examples**"
      ],
      "metadata": {
        "id": "J_TX8SOCN9zk"
      }
    },
    {
      "cell_type": "code",
      "source": [
        "# Single variable with multiple values\n",
        "name= \"Rameez\",\"Ahmed\",\"Ali\";\n",
        "print(name)"
      ],
      "metadata": {
        "colab": {
          "base_uri": "https://localhost:8080/",
          "height": 0
        },
        "id": "1LKKutMJOlrr",
        "outputId": "2008e893-935c-412a-cee1-07a0242f9cfb"
      },
      "execution_count": 9,
      "outputs": [
        {
          "output_type": "stream",
          "name": "stdout",
          "text": [
            "('Rameez', 'Ahmed', 'Ali')\n"
          ]
        }
      ]
    },
    {
      "cell_type": "code",
      "source": [
        "score=10,122,144;\n",
        "print(score)"
      ],
      "metadata": {
        "colab": {
          "base_uri": "https://localhost:8080/",
          "height": 0
        },
        "id": "1UcC4xgQPL2T",
        "outputId": "5281880b-afd6-4a81-fce6-06a0545ce7ee"
      },
      "execution_count": 10,
      "outputs": [
        {
          "output_type": "stream",
          "name": "stdout",
          "text": [
            "(10, 122, 144)\n"
          ]
        }
      ]
    },
    {
      "cell_type": "code",
      "source": [
        "#multiple variables with single values\n",
        "x, y, z = 10, 20, 30\n",
        "print(x,y,z)\n"
      ],
      "metadata": {
        "colab": {
          "base_uri": "https://localhost:8080/",
          "height": 0
        },
        "id": "OljMHpGCPWuf",
        "outputId": "84b0d8c4-e02d-4ea3-f9bd-dbc0e177405c"
      },
      "execution_count": 12,
      "outputs": [
        {
          "output_type": "stream",
          "name": "stdout",
          "text": [
            "10 20 30\n"
          ]
        }
      ]
    },
    {
      "cell_type": "code",
      "source": [
        "name, city, country = \"Rameez\", \"Abbottabad\", \"Pakistan\"\n",
        "print(name,city,country)"
      ],
      "metadata": {
        "colab": {
          "base_uri": "https://localhost:8080/",
          "height": 0
        },
        "id": "25RrMIogQAcb",
        "outputId": "9c5baab6-5e3b-498b-a746-95e304b5ca85"
      },
      "execution_count": 14,
      "outputs": [
        {
          "output_type": "stream",
          "name": "stdout",
          "text": [
            "Rameez Abbottabad Pakistan\n"
          ]
        }
      ]
    },
    {
      "cell_type": "markdown",
      "source": [
        "# **5. Perform arithmetic operations on integers and floating-point numbers**\n",
        "\n",
        "  * Adding, Subtracting, Multiplication and dividing two integer variables\n",
        "  * Adding, Subtracting, Multiplication and dividing  floating-point variables\n"
      ],
      "metadata": {
        "id": "PjUN43lpQe_7"
      }
    },
    {
      "cell_type": "code",
      "source": [
        "# Adding, Subtracting, Multiplication and dividing two integer variables\n",
        "a = 5\n",
        "b = 3\n",
        "print(a + b)\n",
        "print(a - b)\n",
        "print(a * b)\n",
        "print(a / b)\n"
      ],
      "metadata": {
        "colab": {
          "base_uri": "https://localhost:8080/",
          "height": 0
        },
        "id": "VPw71336RWzi",
        "outputId": "d745cafd-bc5f-481a-cb6f-abc741f1b0d8"
      },
      "execution_count": 15,
      "outputs": [
        {
          "output_type": "stream",
          "name": "stdout",
          "text": [
            "8\n",
            "2\n",
            "15\n",
            "1.6666666666666667\n"
          ]
        }
      ]
    },
    {
      "cell_type": "code",
      "source": [
        "# Adding, Subtracting, Multiplication and dividing floating-point variables\n",
        "x = 3.14\n",
        "y = 2.71\n",
        "print(x + y)\n",
        "print(x - y)\n",
        "print(x * y)\n",
        "print(x / y)"
      ],
      "metadata": {
        "colab": {
          "base_uri": "https://localhost:8080/",
          "height": 0
        },
        "id": "y3h2blvzRpC3",
        "outputId": "b0139ffe-359f-4d51-bbd6-759765cfe68b"
      },
      "execution_count": 16,
      "outputs": [
        {
          "output_type": "stream",
          "name": "stdout",
          "text": [
            "5.85\n",
            "0.43000000000000016\n",
            "8.5094\n",
            "1.1586715867158672\n"
          ]
        }
      ]
    },
    {
      "cell_type": "markdown",
      "source": [
        "# *** 6. A string literal is a sequence of characters enclosed in quotes. In Python, we can use either single quotes (‘…’) or double quotes (“…”) to create a string. ***               \n",
        "  * Using single quotes\n",
        "  * Using double quotes\n",
        "  * Using double quotes when the string contains a single quote\n",
        "  * Using single quotes when the string contains double quotes"
      ],
      "metadata": {
        "id": "PpzHeuZwSN7A"
      }
    },
    {
      "cell_type": "code",
      "source": [
        "# Using single quotes\n",
        "s1 = 'Hello, World!'\n",
        "print(s1)"
      ],
      "metadata": {
        "colab": {
          "base_uri": "https://localhost:8080/",
          "height": 0
        },
        "id": "KW5nLdJ7TAWk",
        "outputId": "1692f9eb-0aa1-4ea7-b270-b67890d43b09"
      },
      "execution_count": 17,
      "outputs": [
        {
          "output_type": "stream",
          "name": "stdout",
          "text": [
            "Hello, World!\n"
          ]
        }
      ]
    },
    {
      "cell_type": "code",
      "source": [
        "# Using double quotes\n",
        "s2 = \"Hello, World!\"\n",
        "print(s2)"
      ],
      "metadata": {
        "colab": {
          "base_uri": "https://localhost:8080/",
          "height": 0
        },
        "id": "cUD90sdWTOvF",
        "outputId": "8ea63400-4d9d-41ad-aa1c-835c9f15454b"
      },
      "execution_count": 18,
      "outputs": [
        {
          "output_type": "stream",
          "name": "stdout",
          "text": [
            "Hello, World!\n"
          ]
        }
      ]
    },
    {
      "cell_type": "code",
      "source": [
        "# Using double quotes when the string contains a single quote\n",
        "s3 = \"It's a beautiful day\"\n",
        "print(s3)\n"
      ],
      "metadata": {
        "colab": {
          "base_uri": "https://localhost:8080/",
          "height": 0
        },
        "id": "Kvf1lTAxTSqU",
        "outputId": "6da136c6-f6ac-4c71-e982-3bca750cde35"
      },
      "execution_count": 19,
      "outputs": [
        {
          "output_type": "stream",
          "name": "stdout",
          "text": [
            "It's a beautiful day\n"
          ]
        }
      ]
    },
    {
      "cell_type": "code",
      "source": [
        "# Using single quotes when the string contains double quotes\n",
        "s4 = 'He said, \"Hello, World!\"'\n",
        "print(s4)"
      ],
      "metadata": {
        "colab": {
          "base_uri": "https://localhost:8080/",
          "height": 0
        },
        "id": "fDaQQw-jTX2z",
        "outputId": "56e54062-36fd-4bce-e8cc-903039bdac77"
      },
      "execution_count": 20,
      "outputs": [
        {
          "output_type": "stream",
          "name": "stdout",
          "text": [
            "He said, \"Hello, World!\"\n"
          ]
        }
      ]
    },
    {
      "cell_type": "markdown",
      "source": [
        "# **7.\tThe print() function is a built-in function in Python that allows you to output variables and other data to the console.**\n",
        "  * Example of using the print() function to output a variable\n",
        "  * Example of outputting multiple variables with print()\n",
        "  * Example of using f-strings to format output\n",
        "  * Example of using f-strings to manipulate variables in output\n"
      ],
      "metadata": {
        "id": "PgpFCHfKUHTo"
      }
    },
    {
      "cell_type": "code",
      "source": [
        "# Example of using the print() function to output a variable\n",
        "x = 5\n",
        "print(x)"
      ],
      "metadata": {
        "colab": {
          "base_uri": "https://localhost:8080/",
          "height": 0
        },
        "id": "cLswu8KwUUR8",
        "outputId": "fab9dbf0-5e0a-4448-db58-5cb1bd40784d"
      },
      "execution_count": 21,
      "outputs": [
        {
          "output_type": "stream",
          "name": "stdout",
          "text": [
            "5\n"
          ]
        }
      ]
    },
    {
      "cell_type": "code",
      "source": [
        "# Example of outputting multiple variables with print()\n",
        "x = 5\n",
        "y = 3\n",
        "print(x, y)"
      ],
      "metadata": {
        "colab": {
          "base_uri": "https://localhost:8080/",
          "height": 0
        },
        "id": "9anvzeH1UcNJ",
        "outputId": "14a12d15-d670-4a4c-84a7-8936dde44c17"
      },
      "execution_count": 22,
      "outputs": [
        {
          "output_type": "stream",
          "name": "stdout",
          "text": [
            "5 3\n"
          ]
        }
      ]
    },
    {
      "cell_type": "code",
      "source": [
        "# Example of using f-strings to format output\n",
        "name = \"Ali\"\n",
        "age = 21\n",
        "print(f\"Hello, {name}! You are {age} years old.\")"
      ],
      "metadata": {
        "colab": {
          "base_uri": "https://localhost:8080/",
          "height": 0
        },
        "id": "lv26TKhmUfwY",
        "outputId": "78fb8011-0cb4-42b7-9e9f-7b2c82f6cd3f"
      },
      "execution_count": 23,
      "outputs": [
        {
          "output_type": "stream",
          "name": "stdout",
          "text": [
            "Hello, Rameez! You are 21 years old.\n"
          ]
        }
      ]
    },
    {
      "cell_type": "code",
      "source": [
        "# Example of using f-strings to manipulate variables in output\n",
        "x = 5\n",
        "y = 3\n",
        "print(f\"The sum of {x} and {y} is {x + y}.\")"
      ],
      "metadata": {
        "colab": {
          "base_uri": "https://localhost:8080/",
          "height": 0
        },
        "id": "ZkiliFLDUrBn",
        "outputId": "1612b680-2307-4dfa-aa69-4086def4e016"
      },
      "execution_count": 24,
      "outputs": [
        {
          "output_type": "stream",
          "name": "stdout",
          "text": [
            "The sum of 5 and 3 is 8.\n"
          ]
        }
      ]
    }
  ]
}