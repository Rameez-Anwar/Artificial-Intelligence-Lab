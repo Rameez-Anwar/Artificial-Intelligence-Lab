{
  "nbformat": 4,
  "nbformat_minor": 0,
  "metadata": {
    "colab": {
      "provenance": [],
      "authorship_tag": "ABX9TyPswgFPj9m9k0SfqTAj7lfs",
      "include_colab_link": true
    },
    "kernelspec": {
      "name": "python3",
      "display_name": "Python 3"
    },
    "language_info": {
      "name": "python"
    }
  },
  "cells": [
    {
      "cell_type": "markdown",
      "metadata": {
        "id": "view-in-github",
        "colab_type": "text"
      },
      "source": [
        "<a href=\"https://colab.research.google.com/github/rameezmughal/Artificial-Intelligence-Lab/blob/main/Lab%204%20and%205/Lab_4_and_5.ipynb\" target=\"_parent\"><img src=\"https://colab.research.google.com/assets/colab-badge.svg\" alt=\"Open In Colab\"/></a>"
      ]
    },
    {
      "cell_type": "markdown",
      "source": [
        "# **Programming for AI**\n",
        "# **Lab 4 and 5**\n",
        "> Name : Rameez Anwar\n",
        "\n",
        "> Reg#              : B22F0150Ai102\n",
        "\n",
        "> Course Instructor : Dr. Shahnawaz Qureshi\n",
        "\n",
        "> Lab Instrctor     : MS. Aneela Habib\n",
        "\n",
        "> Topic             : Operations and concepts related to lists"
      ],
      "metadata": {
        "id": "ZBaxGSQ6Cg5_"
      }
    },
    {
      "cell_type": "markdown",
      "source": [
        "# **1.\tAccess List Items:**\n",
        "•\tCreate a list of fruits.\n",
        "\n",
        "•\tPrint the first and last items of the list.\n"
      ],
      "metadata": {
        "id": "Kk3lhRREEEAL"
      }
    },
    {
      "cell_type": "code",
      "execution_count": 58,
      "metadata": {
        "colab": {
          "base_uri": "https://localhost:8080/"
        },
        "id": "J7oD73N8yqKU",
        "outputId": "7c3aacb5-49f8-4e2a-b56d-9de319c017fb"
      },
      "outputs": [
        {
          "output_type": "stream",
          "name": "stdout",
          "text": [
            "apple\n",
            "orange\n"
          ]
        }
      ],
      "source": [
        "# Task 1: List Items\n",
        "fruits = ['apple', 'banana', 'cherry', 'orange', 'kiwi', 'melon', 'mango']\n",
        "print(fruits[0]) # accessing elements through index , Note: index starts from zero\n",
        "print(fruits[3]) #last element(negative indexing)"
      ]
    },
    {
      "cell_type": "markdown",
      "source": [
        "# **2.Change List Items:**\n",
        "•\tCreate a list of colors.\n",
        "\n",
        "•\tChange the second item in the list to \"blue\".\n"
      ],
      "metadata": {
        "id": "mQiN34U0EpQH"
      }
    },
    {
      "cell_type": "code",
      "source": [
        "\n",
        "# Task 2: Change List Items\n",
        "colors = ['red', 'yellow', 'green', 'white', 'black']\n",
        "colors[1] = 'blue'\n",
        "print(colors)"
      ],
      "metadata": {
        "colab": {
          "base_uri": "https://localhost:8080/"
        },
        "id": "3Y5Zp82YzvGg",
        "outputId": "9f0424c6-e0c3-4d32-daa7-5398cf5f04ba"
      },
      "execution_count": 20,
      "outputs": [
        {
          "output_type": "stream",
          "name": "stdout",
          "text": [
            "['red', 'blue', 'green', 'white', 'black']\n"
          ]
        }
      ]
    },
    {
      "cell_type": "markdown",
      "source": [
        "# **3.\tAdd List Items:**\n",
        "•\tCreate a list of numbers.\n",
        "\n",
        "•\tAdd the number 10 at the end of the list.\n",
        "\n"
      ],
      "metadata": {
        "id": "ZnkV38L9GIcY"
      }
    },
    {
      "cell_type": "code",
      "source": [
        "# Task 3: Add List Items\n",
        "numbers = [1, 2, 3, 4, 5, 6, 7, 8, 9]\n",
        "numbers.append(10)\n",
        "print(numbers)\n",
        "numbers.insert(4,122)\n",
        "print(numbers)"
      ],
      "metadata": {
        "colab": {
          "base_uri": "https://localhost:8080/"
        },
        "id": "EDAZyO6hz3_0",
        "outputId": "604bec19-cac2-471d-cc1b-1ada165874a7"
      },
      "execution_count": 57,
      "outputs": [
        {
          "output_type": "stream",
          "name": "stdout",
          "text": [
            "[1, 2, 3, 4, 5, 6, 7, 8, 9, 10]\n",
            "[1, 2, 3, 4, 122, 5, 6, 7, 8, 9, 10]\n"
          ]
        }
      ]
    },
    {
      "cell_type": "markdown",
      "source": [
        "# **4.\tRemove List Items:**\n",
        "•\tCreate a list of animals.\n",
        "\n",
        "•\tRemove the third item from the list.\n"
      ],
      "metadata": {
        "id": "GsWMjQ0tCeRa"
      }
    },
    {
      "cell_type": "code",
      "source": [
        "\n",
        "# Task 4: Remove List Items\n",
        "animals = ['dog', 'cat', 'bird', 'fish', 'rabbit', 'horse']\n",
        "animals.pop(2)\n",
        "print(animals)"
      ],
      "metadata": {
        "colab": {
          "base_uri": "https://localhost:8080/"
        },
        "id": "E8NacQ5Mz7nQ",
        "outputId": "cb5f731a-5809-4257-bbe6-3bf8ff2dd9c9"
      },
      "execution_count": 21,
      "outputs": [
        {
          "output_type": "stream",
          "name": "stdout",
          "text": [
            "['dog', 'cat', 'fish', 'rabbit', 'horse']\n"
          ]
        }
      ]
    },
    {
      "cell_type": "markdown",
      "source": [
        "# **5.\tLoop Lists:**\n",
        "•\tCreate a list of cities.\n",
        "\n",
        "•\tLoop through the list and print each city.\n"
      ],
      "metadata": {
        "id": "hq4KahOzIeb_"
      }
    },
    {
      "cell_type": "code",
      "source": [
        "# Task 5: Loop Lists\n",
        "cities = ['Abbottabad', 'Haripur', 'Islamabad', 'Khanewal', 'Layyah']\n",
        "for city in cities:\n",
        "  print(city)\n"
      ],
      "metadata": {
        "colab": {
          "base_uri": "https://localhost:8080/"
        },
        "id": "kOPKI7t_z_fS",
        "outputId": "9905c170-640d-4fd8-969a-1761988bb561"
      },
      "execution_count": 24,
      "outputs": [
        {
          "output_type": "stream",
          "name": "stdout",
          "text": [
            "Abbottabad\n",
            "Haripur\n",
            "Islamabad\n",
            "Khanewal\n",
            "Layyah\n"
          ]
        }
      ]
    },
    {
      "cell_type": "markdown",
      "source": [
        "# **6.\tList Comprehension:**\n",
        "•\tCreate a list of numbers from 1 to 10.\n",
        "\n",
        "•\tUse list comprehension to create a new list containing the square of each number.\n"
      ],
      "metadata": {
        "id": "qdZY1sMUIswO"
      }
    },
    {
      "cell_type": "code",
      "source": [
        "\n",
        "# Task 6: List Comprehension\n",
        "numbers=[1,2,3,4,5,6,7,8,9,10]\n",
        "\n",
        "squared_numbers = [number ** 2 for number in numbers]\n",
        "\n",
        "print(squared_numbers)\n"
      ],
      "metadata": {
        "colab": {
          "base_uri": "https://localhost:8080/"
        },
        "id": "ycKLONoS0D45",
        "outputId": "b443166c-7b9c-4d85-f47b-d0c2f3ddd9bd"
      },
      "execution_count": 27,
      "outputs": [
        {
          "output_type": "stream",
          "name": "stdout",
          "text": [
            "[1, 4, 9, 16, 25, 36, 49, 64, 81, 100]\n"
          ]
        }
      ]
    },
    {
      "cell_type": "markdown",
      "source": [
        "\n",
        "\n",
        "# **7.\tSort Lists:**\n",
        "•\tCreate a list of names.\n",
        "\n",
        "•\tSort the list alphabetically.\n"
      ],
      "metadata": {
        "id": "Fu-pd4SvJ2SG"
      }
    },
    {
      "cell_type": "code",
      "source": [
        "\n",
        "# Task 7: Sort Lists\n",
        "names = ['Rameez', 'Azeem', 'Fariha', 'Umer', 'Zia']\n",
        "names.sort()\n",
        "print(names)"
      ],
      "metadata": {
        "colab": {
          "base_uri": "https://localhost:8080/"
        },
        "id": "80RRlMYq0GfZ",
        "outputId": "83992628-7806-4f2a-feee-9edfb9797640"
      },
      "execution_count": 30,
      "outputs": [
        {
          "output_type": "stream",
          "name": "stdout",
          "text": [
            "['Azeem', 'Fariha', 'Rameez', 'Umer', 'Zia']\n"
          ]
        }
      ]
    },
    {
      "cell_type": "markdown",
      "source": [
        "# **8.\tCopy Lists:**\n",
        "•\tCreate a list of fruits.\n",
        "\n",
        "•\tCopy the list into a new list.\n"
      ],
      "metadata": {
        "id": "LmsONYbuJ8Y-"
      }
    },
    {
      "cell_type": "code",
      "source": [
        "\n",
        "# Task 8: Copy Lists\n",
        "fruits = [\"apple\", \"banana\", \"cherry\"]\n",
        "\n",
        "fruits_copy = fruits.copy()\n",
        "\n",
        "print(fruits)\n",
        "print(fruits_copy)\n"
      ],
      "metadata": {
        "colab": {
          "base_uri": "https://localhost:8080/"
        },
        "id": "9orGrWAC0Kdg",
        "outputId": "8614e1c3-7533-4227-94ab-fcb8dbeee969"
      },
      "execution_count": 32,
      "outputs": [
        {
          "output_type": "stream",
          "name": "stdout",
          "text": [
            "['apple', 'banana', 'cherry']\n",
            "['apple', 'banana', 'cherry']\n"
          ]
        }
      ]
    },
    {
      "cell_type": "markdown",
      "source": [
        "# **9.\tJoin Lists:**\n",
        "•\tCreate two lists of numbers.\n",
        "\n",
        "•\tJoin the two lists into a single list.\n"
      ],
      "metadata": {
        "id": "_V8EtbuYKB_f"
      }
    },
    {
      "cell_type": "code",
      "source": [
        "\n",
        "# Task 9: Join Lists\n",
        "numbers_list1 = [1, 2, 3]\n",
        "numbers_list2 = [4, 5, 6]\n",
        "joined_lists = numbers_list1 + numbers_list2\n",
        "print(joined_lists)\n"
      ],
      "metadata": {
        "colab": {
          "base_uri": "https://localhost:8080/"
        },
        "id": "yciZ24Sz0OU3",
        "outputId": "455f13fc-e08a-49c0-ba8e-ef66d749e8fe"
      },
      "execution_count": 34,
      "outputs": [
        {
          "output_type": "stream",
          "name": "stdout",
          "text": [
            "[1, 2, 3, 4, 5, 6]\n"
          ]
        }
      ]
    },
    {
      "cell_type": "markdown",
      "source": [
        "# **10.\tList Methods:**\n",
        "•\tCreate a list of fruits.\n",
        "\n",
        "•\tUse the append() method to add a new fruit to the list.\n",
        "\n",
        "•\tUse the pop() method to remove the last fruit from the list.\n"
      ],
      "metadata": {
        "id": "LwPSZSyiKI3I"
      }
    },
    {
      "cell_type": "code",
      "source": [
        "\n",
        "# Task 10: List Methods\n",
        "fruits_methods = ['apple', 'banana', 'cherry']\n",
        "fruits_methods.append('orange')\n",
        "last_fruit_removed = fruits_methods.pop()\n",
        "print(fruits_methods)"
      ],
      "metadata": {
        "colab": {
          "base_uri": "https://localhost:8080/"
        },
        "id": "_O8R1VVz0Q4h",
        "outputId": "ae55dbd8-79d1-47eb-91f2-5d59dfc2bb46"
      },
      "execution_count": 38,
      "outputs": [
        {
          "output_type": "stream",
          "name": "stdout",
          "text": [
            "['apple', 'banana', 'cherry']\n"
          ]
        }
      ]
    },
    {
      "cell_type": "markdown",
      "source": [
        "# **11.\tCombining Lists and List Comprehension:**\n",
        "\n",
        "•\tCreate two lists, one containing numbers from 1 to 5 and another containing numbers from 6 to 10.\n",
        "\n",
        "•\tUse list comprehension to create a new list that contains the sum of corresponding elements from the two lists.\n"
      ],
      "metadata": {
        "id": "ocrqNqdPKR9S"
      }
    },
    {
      "cell_type": "code",
      "source": [
        "# Task 11: Combining Lists and List Comprehension\n",
        "list1 = [1, 2, 3, 4, 5]\n",
        "list2 = [6, 7, 8, 9, 10]\n",
        "combined_sums = [x + y for x, y in zip(list1, list2)]\n",
        "print(combined_sums)\n",
        "\n"
      ],
      "metadata": {
        "colab": {
          "base_uri": "https://localhost:8080/"
        },
        "id": "7fv2wAps0T8s",
        "outputId": "0d46e521-1c93-40b1-ecde-05df5cb2532e"
      },
      "execution_count": 43,
      "outputs": [
        {
          "output_type": "stream",
          "name": "stdout",
          "text": [
            "[7, 9, 11, 13, 15]\n"
          ]
        }
      ]
    },
    {
      "cell_type": "markdown",
      "source": [
        "\n",
        "# **12.\tFiltering and Sorting:**\n",
        "\n",
        "* Create a list of numbers.\n",
        "\n",
        "•\tUse list comprehension to create a new list containing only the even numbers from the original list.\n",
        "\n",
        "•\tSort the new list in descending order.\n",
        "the two lists into a single list, alternating between even and odd numbers."
      ],
      "metadata": {
        "id": "wfUNR4D6Kwgx"
      }
    },
    {
      "cell_type": "code",
      "source": [
        "# Task 12: Filtering and Sorting\n",
        "numbers_list = [12, 3, 5, 7, 8, 11, 14]\n",
        "even_numbers_sorted_desc = sorted([x for x in numbers_list if x % 2 == 0], reverse=True)\n",
        "print(even_numbers_sorted_desc)\n"
      ],
      "metadata": {
        "colab": {
          "base_uri": "https://localhost:8080/"
        },
        "id": "XqKv13RW0eZo",
        "outputId": "899e9898-c459-4699-ad05-f89c2a826bd0"
      },
      "execution_count": 45,
      "outputs": [
        {
          "output_type": "stream",
          "name": "stdout",
          "text": [
            "[14, 12, 8]\n"
          ]
        }
      ]
    },
    {
      "cell_type": "markdown",
      "source": [
        "# **13.\tList Slicing and Reversing:**\n",
        "•\tCreate a list of numbers from 1 to 10.\n",
        "\n",
        "•\tUse list slicing to create a new list containing only the even numbers from the original list, in reverse order.\n"
      ],
      "metadata": {
        "id": "_INmpDa0LB2r"
      }
    },
    {
      "cell_type": "code",
      "source": [
        "\n",
        "# Task 13: List Slicing and Reversing\n",
        "numbers_from_1_to_10 = [1,2,3,4,5,6,7,8,9,10]\n",
        "even_numbers_reversed = numbers_from_1_to_10[1::2][::-1]\n",
        "print(even_numbers_reversed)\n"
      ],
      "metadata": {
        "colab": {
          "base_uri": "https://localhost:8080/"
        },
        "id": "B4cR1PUl0gqa",
        "outputId": "897d48de-42f0-431f-ccbb-c456c3e8b125"
      },
      "execution_count": 49,
      "outputs": [
        {
          "output_type": "stream",
          "name": "stdout",
          "text": [
            "[10, 8, 6, 4, 2]\n"
          ]
        }
      ]
    },
    {
      "cell_type": "markdown",
      "source": [
        "\n",
        "# **14.\tCombining Lists and List Methods:**\n",
        "•\tCreate two lists, one containing even numbers and another containing odd numbers.\n",
        "\n",
        "•\tUse list methods to combine"
      ],
      "metadata": {
        "id": "OvENSoJpLOFh"
      }
    },
    {
      "cell_type": "code",
      "source": [
        "\n",
        "# Task 14: Combining Lists and List Methods\n",
        "even_numbers = [2, 4, 6, 8]\n",
        "odd_numbers = [1, 3, 5, 7]\n",
        "combined_alternate = [None] * (len(even_numbers) + len(odd_numbers))\n",
        "combined_alternate[::2] = even_numbers\n",
        "combined_alternate[1::2] = odd_numbers\n",
        "print(combined_alternate)"
      ],
      "metadata": {
        "colab": {
          "base_uri": "https://localhost:8080/"
        },
        "id": "jUmibF8V0jie",
        "outputId": "e756fbb4-76cf-4d9d-c4a9-7e94861fbde5"
      },
      "execution_count": 48,
      "outputs": [
        {
          "output_type": "stream",
          "name": "stdout",
          "text": [
            "[2, 1, 4, 3, 6, 5, 8, 7]\n"
          ]
        }
      ]
    }
  ]
}