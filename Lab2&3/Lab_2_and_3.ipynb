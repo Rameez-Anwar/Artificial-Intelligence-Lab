{
  "nbformat": 4,
  "nbformat_minor": 0,
  "metadata": {
    "colab": {
      "provenance": [],
      "mount_file_id": "1wz4d878GzKuamNpjbv9w4aaT5UPs_csJ",
      "authorship_tag": "ABX9TyORovtk5yLTAucQxygzGrmO",
      "include_colab_link": true
    },
    "kernelspec": {
      "name": "python3",
      "display_name": "Python 3"
    },
    "language_info": {
      "name": "python"
    },
    "accelerator": "TPU"
  },
  "cells": [
    {
      "cell_type": "markdown",
      "metadata": {
        "id": "view-in-github",
        "colab_type": "text"
      },
      "source": [
        "<a href=\"https://colab.research.google.com/github/rameezmughal/Artificial-Intelligence-Lab/blob/main/Lab2%263/Lab_2_and_3.ipynb\" target=\"_parent\"><img src=\"https://colab.research.google.com/assets/colab-badge.svg\" alt=\"Open In Colab\"/></a>"
      ]
    },
    {
      "cell_type": "markdown",
      "source": [
        "# **LAB 2 and 3**\n",
        ">Name : Rameez Anwar\n",
        "\n",
        ">Reg No : B22F0150AI102\n",
        "\n",
        ">Lab Instructor: Ms. Aneela Habib\n",
        "\n",
        ">Topic : Data Types , Type Conversion"
      ],
      "metadata": {
        "id": "LAEbvV_f-OxF"
      }
    },
    {
      "cell_type": "markdown",
      "source": [
        "# **Task 1:** Print at least 5 types of data type"
      ],
      "metadata": {
        "id": "TtFi7pVH6GU7"
      }
    },
    {
      "cell_type": "code",
      "source": [
        "# Int Data Type (5 Example)\n",
        "\n",
        "a=12\n",
        "b=13\n",
        "c=14\n",
        "d=15\n",
        "e=19\n",
        "print(a,b,c,d,e,)\n",
        "print(type(a),type(b),type(c),type(d),type(e))"
      ],
      "metadata": {
        "colab": {
          "base_uri": "https://localhost:8080/"
        },
        "id": "GEmkoi6K6NT6",
        "outputId": "18a5d578-a4a4-46f1-8f3b-eb98db324bac"
      },
      "execution_count": 4,
      "outputs": [
        {
          "output_type": "stream",
          "name": "stdout",
          "text": [
            "12 13 14 15 19\n",
            "<class 'int'> <class 'int'> <class 'int'> <class 'int'> <class 'int'>\n"
          ]
        }
      ]
    },
    {
      "cell_type": "code",
      "source": [
        "# float data type (5 Examples )\n",
        "a=12.2\n",
        "b=4.5\n",
        "c=5.3\n",
        "d=43.4\n",
        "e=55.5\n",
        "print(a,b,c,d,e)\n",
        "print(type(a),type(b),type(c),type(d),type(e))"
      ],
      "metadata": {
        "colab": {
          "base_uri": "https://localhost:8080/"
        },
        "id": "qJw81x6A7jJx",
        "outputId": "81c155fb-b7ce-4f4c-f7e2-6ccc1c1b862a"
      },
      "execution_count": 5,
      "outputs": [
        {
          "output_type": "stream",
          "name": "stdout",
          "text": [
            "12.2 4.5 5.3 43.4 55.5\n",
            "<class 'float'> <class 'float'> <class 'float'> <class 'float'> <class 'float'>\n"
          ]
        }
      ]
    },
    {
      "cell_type": "code",
      "source": [
        "# Complex data type(5 Examples )\n",
        "a=5j\n",
        "b=2j\n",
        "c=4j\n",
        "d=0+3j\n",
        "e=5+4J\n",
        "print(a,b,c,d,e)\n",
        "print(type(a),type(b),type(c),type(d),type(e))"
      ],
      "metadata": {
        "colab": {
          "base_uri": "https://localhost:8080/"
        },
        "id": "DpXIMLmA8gDS",
        "outputId": "830a0285-dcd7-4b9b-fb14-58e104f9d580"
      },
      "execution_count": 6,
      "outputs": [
        {
          "output_type": "stream",
          "name": "stdout",
          "text": [
            "5j 2j 4j 3j (5+4j)\n",
            "<class 'complex'> <class 'complex'> <class 'complex'> <class 'complex'> <class 'complex'>\n"
          ]
        }
      ]
    },
    {
      "cell_type": "markdown",
      "source": [
        "# **Task 2:** Write example of type conversion for each ( minimum 3)"
      ],
      "metadata": {
        "id": "JlzOHmQW_p5T"
      }
    },
    {
      "cell_type": "code",
      "source": [
        "a = 4\n",
        "str_a = str(a)\n",
        "print(type(str_a))"
      ],
      "metadata": {
        "colab": {
          "base_uri": "https://localhost:8080/"
        },
        "id": "90rshLR2_yD4",
        "outputId": "9a11fd44-b031-4da8-ad46-f676b2996ede"
      },
      "execution_count": 13,
      "outputs": [
        {
          "output_type": "stream",
          "name": "stdout",
          "text": [
            "<class 'str'>\n"
          ]
        }
      ]
    },
    {
      "cell_type": "code",
      "source": [
        "b = 3.14\n",
        "int_b = int(b)\n",
        "print(type(int_b))"
      ],
      "metadata": {
        "colab": {
          "base_uri": "https://localhost:8080/"
        },
        "id": "abKrxQXNAEuD",
        "outputId": "10e32921-6642-4a89-a7a2-fdf963e535bf"
      },
      "execution_count": 15,
      "outputs": [
        {
          "output_type": "stream",
          "name": "stdout",
          "text": [
            "<class 'int'>\n"
          ]
        }
      ]
    },
    {
      "cell_type": "code",
      "source": [
        "c = True\n",
        "int_c = int(c)\n",
        "print(type(int_c))"
      ],
      "metadata": {
        "colab": {
          "base_uri": "https://localhost:8080/"
        },
        "id": "hNGt_3BSAMtK",
        "outputId": "1552d8cf-f225-40f0-eedb-48ae0ad14ff0"
      },
      "execution_count": 16,
      "outputs": [
        {
          "output_type": "stream",
          "name": "stdout",
          "text": [
            "<class 'int'>\n"
          ]
        }
      ]
    },
    {
      "cell_type": "code",
      "source": [
        "d=\"3+4j\"\n",
        "complex_d=complex(d)\n",
        "print(type(complex_d))"
      ],
      "metadata": {
        "colab": {
          "base_uri": "https://localhost:8080/"
        },
        "id": "FaolQGt2B9sf",
        "outputId": "df0ac1cc-706e-41ff-d7c6-2563b4f4ae05"
      },
      "execution_count": 17,
      "outputs": [
        {
          "output_type": "stream",
          "name": "stdout",
          "text": [
            "<class 'complex'>\n"
          ]
        }
      ]
    },
    {
      "cell_type": "markdown",
      "source": [
        "# **Task 3:** Assign multiple strings to single variable with your name , registration number, program , semester etc"
      ],
      "metadata": {
        "id": "fKR7_reLBLu4"
      }
    },
    {
      "cell_type": "code",
      "source": [
        "Data = [\"Name: Rameez\",\"Reg: B22F0150AI102\",\"program: AI\",\"sem:4\"]\n",
        "print(type(Data))\n",
        "print(Data)"
      ],
      "metadata": {
        "colab": {
          "base_uri": "https://localhost:8080/"
        },
        "id": "HVWkPwWDBjZf",
        "outputId": "036f98ec-7d1d-43da-fa6c-5caad6de9096"
      },
      "execution_count": 44,
      "outputs": [
        {
          "output_type": "stream",
          "name": "stdout",
          "text": [
            "<class 'list'>\n",
            "['Name: Rameez', 'Reg: B22F0150AI102', 'program: AI', 'sem:4']\n"
          ]
        }
      ]
    },
    {
      "cell_type": "markdown",
      "source": [
        "# **Task 4:** Write Your country name and access the last 3 characters"
      ],
      "metadata": {
        "id": "WlonWSQ9CaGe"
      }
    },
    {
      "cell_type": "code",
      "source": [
        "a=\"Pakistan\"\n",
        "print(a[5:8])\n"
      ],
      "metadata": {
        "colab": {
          "base_uri": "https://localhost:8080/"
        },
        "id": "Q8tWWlL3C21r",
        "outputId": "27d801bb-c2ad-45f2-fd89-72905876c991"
      },
      "execution_count": 1,
      "outputs": [
        {
          "output_type": "stream",
          "name": "stdout",
          "text": [
            "tan\n"
          ]
        }
      ]
    },
    {
      "cell_type": "markdown",
      "source": [
        "# **Task 5:**Write code and observe using len() function it count space or not."
      ],
      "metadata": {
        "id": "inRBLxeBFR3t"
      }
    },
    {
      "cell_type": "code",
      "source": [
        "city =\"Abbottabad\" # without space\n",
        "print(len(city))\n",
        "city1= \" Abbottabad \" #with space\n",
        "print(len(city1))\n",
        "#Note : length function also counts spaces"
      ],
      "metadata": {
        "colab": {
          "base_uri": "https://localhost:8080/"
        },
        "id": "XmbeqJGZGEck",
        "outputId": "3459ffde-cb86-41c6-f5fc-c521222a6a77"
      },
      "execution_count": 33,
      "outputs": [
        {
          "output_type": "stream",
          "name": "stdout",
          "text": [
            "10\n",
            "12\n"
          ]
        }
      ]
    },
    {
      "cell_type": "markdown",
      "source": [
        "# **Task 6:** Write code to access the 2nd and 3rd character of your name using negative indexes."
      ],
      "metadata": {
        "id": "M917Z1r8HYTp"
      }
    },
    {
      "cell_type": "code",
      "source": [
        "name = \"Rameez\"\n",
        "print(name[-5:3])"
      ],
      "metadata": {
        "colab": {
          "base_uri": "https://localhost:8080/"
        },
        "id": "rwQC568-Hhzv",
        "outputId": "4c524ba3-c250-4897-b9cd-2f021806951f"
      },
      "execution_count": 38,
      "outputs": [
        {
          "output_type": "stream",
          "name": "stdout",
          "text": [
            "am\n"
          ]
        }
      ]
    },
    {
      "cell_type": "markdown",
      "source": [
        "# **Task 7:** Write python code in which you pass index number to format() function and arguments must be 4 and same code without indexes."
      ],
      "metadata": {
        "id": "Z2uihrK_IN3w"
      }
    },
    {
      "cell_type": "code",
      "source": [
        "quantity = 3\n",
        "item_no = 4050\n",
        "price = 49.95\n",
        "\n",
        "# Using format() without index numbers\n",
        "print(\"I want {} pieces of item number {} for {} dollars.\".format(quantity, item_no, price))"
      ],
      "metadata": {
        "colab": {
          "base_uri": "https://localhost:8080/"
        },
        "id": "qBzZTz_TIZQp",
        "outputId": "febc5eed-e2de-495b-e88e-b42e13ac783b"
      },
      "execution_count": 4,
      "outputs": [
        {
          "output_type": "stream",
          "name": "stdout",
          "text": [
            "I want 3 pieces of item number 4050 for 49.95 dollars.\n"
          ]
        }
      ]
    },
    {
      "cell_type": "code",
      "source": [
        "quantity = 3\n",
        "item_no = 4050\n",
        "price = 49.95\n",
        "\n",
        "# Using format() with index numbers\n",
        "print(\"I want {0} pieces of item number {1} for {2} dollars.\".format(quantity, item_no, price))"
      ],
      "metadata": {
        "colab": {
          "base_uri": "https://localhost:8080/"
        },
        "id": "5jUHetv8J9p1",
        "outputId": "60351b1e-57b0-4c5d-f1dd-d9dc9e0f8476"
      },
      "execution_count": 7,
      "outputs": [
        {
          "output_type": "stream",
          "name": "stdout",
          "text": [
            "I want 3 pieces of item number 4050 for 49.95 dollars.\n"
          ]
        }
      ]
    },
    {
      "cell_type": "markdown",
      "source": [
        "# Task 8: Take input from user and  than display it like “John age is: age”"
      ],
      "metadata": {
        "id": "-n3qc5OZI03J"
      }
    },
    {
      "cell_type": "code",
      "source": [
        "# Take input from the user\n",
        "name = input(\"Enter your name: \")\n",
        "age = int(input(\"Enter your age: \"))\n",
        "\n",
        "# Display the formatted string\n",
        "print(f\"{name} age is: {age}\")"
      ],
      "metadata": {
        "colab": {
          "base_uri": "https://localhost:8080/"
        },
        "id": "4Z7XQp_-I8md",
        "outputId": "7083dddb-5245-4f3b-ab2a-4898f098fe0d"
      },
      "execution_count": 41,
      "outputs": [
        {
          "output_type": "stream",
          "name": "stdout",
          "text": [
            "Enter your name: Rameez\n",
            "Enter your age: 21\n",
            "Rameez age is: 21\n"
          ]
        }
      ]
    }
  ]
}